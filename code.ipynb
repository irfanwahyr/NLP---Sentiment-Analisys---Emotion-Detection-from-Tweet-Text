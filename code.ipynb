{
  "cells": [
    {
      "cell_type": "markdown",
      "metadata": {
        "id": "-udTX_A6x5ke"
      },
      "source": [
        "# DETEKSI EMOSI DARI TEXT MENGGUNAKAN LSTM  "
      ]
    },
    {
      "cell_type": "markdown",
      "metadata": {
        "id": "DclXLF7jyHW8"
      },
      "source": [
        "# Dataset merupakan data publik, diambil dari [link](https://www.kaggle.com/datasets/parulpandey/emotion-dataset), dengan sedikit perubahan"
      ]
    },
    {
      "cell_type": "markdown",
      "metadata": {
        "id": "bMtSjssEwGtT"
      },
      "source": [
        "# Import Library"
      ]
    },
    {
      "cell_type": "code",
      "execution_count": 105,
      "metadata": {
        "colab": {
          "base_uri": "https://localhost:8080/"
        },
        "id": "ABV2TxvkvfuT",
        "outputId": "0339b59e-3f0b-4f5d-9f43-f134754fc850"
      },
      "outputs": [
        {
          "output_type": "stream",
          "name": "stderr",
          "text": [
            "[nltk_data] Downloading package stopwords to /root/nltk_data...\n",
            "[nltk_data]   Package stopwords is already up-to-date!\n",
            "[nltk_data] Downloading package punkt to /root/nltk_data...\n",
            "[nltk_data]   Package punkt is already up-to-date!\n",
            "[nltk_data] Downloading package wordnet to /root/nltk_data...\n",
            "[nltk_data]   Package wordnet is already up-to-date!\n"
          ]
        }
      ],
      "source": [
        "import pandas as pd\n",
        "from sklearn.model_selection import train_test_split\n",
        "from tensorflow.keras.preprocessing.text import Tokenizer\n",
        "from tensorflow.keras.preprocessing.sequence import pad_sequences\n",
        "from tensorflow.keras.callbacks import EarlyStopping\n",
        "import re\n",
        "import nltk\n",
        "nltk.download('stopwords')\n",
        "nltk.download('punkt')\n",
        "nltk.download('wordnet')\n",
        "from nltk.tokenize import word_tokenize\n",
        "from nltk.corpus import stopwords\n",
        "from nltk.stem import WordNetLemmatizer\n",
        "import matplotlib.pyplot as plt\n",
        "import tensorflow as tf"
      ]
    },
    {
      "cell_type": "markdown",
      "metadata": {
        "id": "QvTDalxCwLCV"
      },
      "source": [
        "# Load Data dan membuat dataframe"
      ]
    },
    {
      "cell_type": "code",
      "execution_count": 106,
      "metadata": {
        "colab": {
          "base_uri": "https://localhost:8080/",
          "height": 423
        },
        "id": "3XZTZIT0vv88",
        "outputId": "4d9641a4-8fc5-48cb-9eab-d3849aeb3fef"
      },
      "outputs": [
        {
          "output_type": "execute_result",
          "data": {
            "text/plain": [
              "                                                    text  label\n",
              "0                                i didnt feel humiliated      0\n",
              "1      i can go from feeling so hopeless to so damned...      0\n",
              "2       im grabbing a minute to post i feel greedy wrong      3\n",
              "3      i am ever feeling nostalgic about the fireplac...      2\n",
              "4                                   i am feeling grouchy      3\n",
              "...                                                  ...    ...\n",
              "19995  im having ssa examination tomorrow in the morn...      0\n",
              "19996  i constantly worry about their fight against n...      1\n",
              "19997  i feel its important to share this info for th...      1\n",
              "19998  i truly feel that if you are passionate enough...      1\n",
              "19999  i feel like i just wanna buy any cute make up ...      1\n",
              "\n",
              "[20000 rows x 2 columns]"
            ],
            "text/html": [
              "\n",
              "  <div id=\"df-1abf8326-886d-4040-b5a6-f9e3f21dfdfd\" class=\"colab-df-container\">\n",
              "    <div>\n",
              "<style scoped>\n",
              "    .dataframe tbody tr th:only-of-type {\n",
              "        vertical-align: middle;\n",
              "    }\n",
              "\n",
              "    .dataframe tbody tr th {\n",
              "        vertical-align: top;\n",
              "    }\n",
              "\n",
              "    .dataframe thead th {\n",
              "        text-align: right;\n",
              "    }\n",
              "</style>\n",
              "<table border=\"1\" class=\"dataframe\">\n",
              "  <thead>\n",
              "    <tr style=\"text-align: right;\">\n",
              "      <th></th>\n",
              "      <th>text</th>\n",
              "      <th>label</th>\n",
              "    </tr>\n",
              "  </thead>\n",
              "  <tbody>\n",
              "    <tr>\n",
              "      <th>0</th>\n",
              "      <td>i didnt feel humiliated</td>\n",
              "      <td>0</td>\n",
              "    </tr>\n",
              "    <tr>\n",
              "      <th>1</th>\n",
              "      <td>i can go from feeling so hopeless to so damned...</td>\n",
              "      <td>0</td>\n",
              "    </tr>\n",
              "    <tr>\n",
              "      <th>2</th>\n",
              "      <td>im grabbing a minute to post i feel greedy wrong</td>\n",
              "      <td>3</td>\n",
              "    </tr>\n",
              "    <tr>\n",
              "      <th>3</th>\n",
              "      <td>i am ever feeling nostalgic about the fireplac...</td>\n",
              "      <td>2</td>\n",
              "    </tr>\n",
              "    <tr>\n",
              "      <th>4</th>\n",
              "      <td>i am feeling grouchy</td>\n",
              "      <td>3</td>\n",
              "    </tr>\n",
              "    <tr>\n",
              "      <th>...</th>\n",
              "      <td>...</td>\n",
              "      <td>...</td>\n",
              "    </tr>\n",
              "    <tr>\n",
              "      <th>19995</th>\n",
              "      <td>im having ssa examination tomorrow in the morn...</td>\n",
              "      <td>0</td>\n",
              "    </tr>\n",
              "    <tr>\n",
              "      <th>19996</th>\n",
              "      <td>i constantly worry about their fight against n...</td>\n",
              "      <td>1</td>\n",
              "    </tr>\n",
              "    <tr>\n",
              "      <th>19997</th>\n",
              "      <td>i feel its important to share this info for th...</td>\n",
              "      <td>1</td>\n",
              "    </tr>\n",
              "    <tr>\n",
              "      <th>19998</th>\n",
              "      <td>i truly feel that if you are passionate enough...</td>\n",
              "      <td>1</td>\n",
              "    </tr>\n",
              "    <tr>\n",
              "      <th>19999</th>\n",
              "      <td>i feel like i just wanna buy any cute make up ...</td>\n",
              "      <td>1</td>\n",
              "    </tr>\n",
              "  </tbody>\n",
              "</table>\n",
              "<p>20000 rows × 2 columns</p>\n",
              "</div>\n",
              "    <div class=\"colab-df-buttons\">\n",
              "\n",
              "  <div class=\"colab-df-container\">\n",
              "    <button class=\"colab-df-convert\" onclick=\"convertToInteractive('df-1abf8326-886d-4040-b5a6-f9e3f21dfdfd')\"\n",
              "            title=\"Convert this dataframe to an interactive table.\"\n",
              "            style=\"display:none;\">\n",
              "\n",
              "  <svg xmlns=\"http://www.w3.org/2000/svg\" height=\"24px\" viewBox=\"0 -960 960 960\">\n",
              "    <path d=\"M120-120v-720h720v720H120Zm60-500h600v-160H180v160Zm220 220h160v-160H400v160Zm0 220h160v-160H400v160ZM180-400h160v-160H180v160Zm440 0h160v-160H620v160ZM180-180h160v-160H180v160Zm440 0h160v-160H620v160Z\"/>\n",
              "  </svg>\n",
              "    </button>\n",
              "\n",
              "  <style>\n",
              "    .colab-df-container {\n",
              "      display:flex;\n",
              "      gap: 12px;\n",
              "    }\n",
              "\n",
              "    .colab-df-convert {\n",
              "      background-color: #E8F0FE;\n",
              "      border: none;\n",
              "      border-radius: 50%;\n",
              "      cursor: pointer;\n",
              "      display: none;\n",
              "      fill: #1967D2;\n",
              "      height: 32px;\n",
              "      padding: 0 0 0 0;\n",
              "      width: 32px;\n",
              "    }\n",
              "\n",
              "    .colab-df-convert:hover {\n",
              "      background-color: #E2EBFA;\n",
              "      box-shadow: 0px 1px 2px rgba(60, 64, 67, 0.3), 0px 1px 3px 1px rgba(60, 64, 67, 0.15);\n",
              "      fill: #174EA6;\n",
              "    }\n",
              "\n",
              "    .colab-df-buttons div {\n",
              "      margin-bottom: 4px;\n",
              "    }\n",
              "\n",
              "    [theme=dark] .colab-df-convert {\n",
              "      background-color: #3B4455;\n",
              "      fill: #D2E3FC;\n",
              "    }\n",
              "\n",
              "    [theme=dark] .colab-df-convert:hover {\n",
              "      background-color: #434B5C;\n",
              "      box-shadow: 0px 1px 3px 1px rgba(0, 0, 0, 0.15);\n",
              "      filter: drop-shadow(0px 1px 2px rgba(0, 0, 0, 0.3));\n",
              "      fill: #FFFFFF;\n",
              "    }\n",
              "  </style>\n",
              "\n",
              "    <script>\n",
              "      const buttonEl =\n",
              "        document.querySelector('#df-1abf8326-886d-4040-b5a6-f9e3f21dfdfd button.colab-df-convert');\n",
              "      buttonEl.style.display =\n",
              "        google.colab.kernel.accessAllowed ? 'block' : 'none';\n",
              "\n",
              "      async function convertToInteractive(key) {\n",
              "        const element = document.querySelector('#df-1abf8326-886d-4040-b5a6-f9e3f21dfdfd');\n",
              "        const dataTable =\n",
              "          await google.colab.kernel.invokeFunction('convertToInteractive',\n",
              "                                                    [key], {});\n",
              "        if (!dataTable) return;\n",
              "\n",
              "        const docLinkHtml = 'Like what you see? Visit the ' +\n",
              "          '<a target=\"_blank\" href=https://colab.research.google.com/notebooks/data_table.ipynb>data table notebook</a>'\n",
              "          + ' to learn more about interactive tables.';\n",
              "        element.innerHTML = '';\n",
              "        dataTable['output_type'] = 'display_data';\n",
              "        await google.colab.output.renderOutput(dataTable, element);\n",
              "        const docLink = document.createElement('div');\n",
              "        docLink.innerHTML = docLinkHtml;\n",
              "        element.appendChild(docLink);\n",
              "      }\n",
              "    </script>\n",
              "  </div>\n",
              "\n",
              "\n",
              "<div id=\"df-7e259822-67e0-4e43-a075-52df3009ee47\">\n",
              "  <button class=\"colab-df-quickchart\" onclick=\"quickchart('df-7e259822-67e0-4e43-a075-52df3009ee47')\"\n",
              "            title=\"Suggest charts\"\n",
              "            style=\"display:none;\">\n",
              "\n",
              "<svg xmlns=\"http://www.w3.org/2000/svg\" height=\"24px\"viewBox=\"0 0 24 24\"\n",
              "     width=\"24px\">\n",
              "    <g>\n",
              "        <path d=\"M19 3H5c-1.1 0-2 .9-2 2v14c0 1.1.9 2 2 2h14c1.1 0 2-.9 2-2V5c0-1.1-.9-2-2-2zM9 17H7v-7h2v7zm4 0h-2V7h2v10zm4 0h-2v-4h2v4z\"/>\n",
              "    </g>\n",
              "</svg>\n",
              "  </button>\n",
              "\n",
              "<style>\n",
              "  .colab-df-quickchart {\n",
              "      --bg-color: #E8F0FE;\n",
              "      --fill-color: #1967D2;\n",
              "      --hover-bg-color: #E2EBFA;\n",
              "      --hover-fill-color: #174EA6;\n",
              "      --disabled-fill-color: #AAA;\n",
              "      --disabled-bg-color: #DDD;\n",
              "  }\n",
              "\n",
              "  [theme=dark] .colab-df-quickchart {\n",
              "      --bg-color: #3B4455;\n",
              "      --fill-color: #D2E3FC;\n",
              "      --hover-bg-color: #434B5C;\n",
              "      --hover-fill-color: #FFFFFF;\n",
              "      --disabled-bg-color: #3B4455;\n",
              "      --disabled-fill-color: #666;\n",
              "  }\n",
              "\n",
              "  .colab-df-quickchart {\n",
              "    background-color: var(--bg-color);\n",
              "    border: none;\n",
              "    border-radius: 50%;\n",
              "    cursor: pointer;\n",
              "    display: none;\n",
              "    fill: var(--fill-color);\n",
              "    height: 32px;\n",
              "    padding: 0;\n",
              "    width: 32px;\n",
              "  }\n",
              "\n",
              "  .colab-df-quickchart:hover {\n",
              "    background-color: var(--hover-bg-color);\n",
              "    box-shadow: 0 1px 2px rgba(60, 64, 67, 0.3), 0 1px 3px 1px rgba(60, 64, 67, 0.15);\n",
              "    fill: var(--button-hover-fill-color);\n",
              "  }\n",
              "\n",
              "  .colab-df-quickchart-complete:disabled,\n",
              "  .colab-df-quickchart-complete:disabled:hover {\n",
              "    background-color: var(--disabled-bg-color);\n",
              "    fill: var(--disabled-fill-color);\n",
              "    box-shadow: none;\n",
              "  }\n",
              "\n",
              "  .colab-df-spinner {\n",
              "    border: 2px solid var(--fill-color);\n",
              "    border-color: transparent;\n",
              "    border-bottom-color: var(--fill-color);\n",
              "    animation:\n",
              "      spin 1s steps(1) infinite;\n",
              "  }\n",
              "\n",
              "  @keyframes spin {\n",
              "    0% {\n",
              "      border-color: transparent;\n",
              "      border-bottom-color: var(--fill-color);\n",
              "      border-left-color: var(--fill-color);\n",
              "    }\n",
              "    20% {\n",
              "      border-color: transparent;\n",
              "      border-left-color: var(--fill-color);\n",
              "      border-top-color: var(--fill-color);\n",
              "    }\n",
              "    30% {\n",
              "      border-color: transparent;\n",
              "      border-left-color: var(--fill-color);\n",
              "      border-top-color: var(--fill-color);\n",
              "      border-right-color: var(--fill-color);\n",
              "    }\n",
              "    40% {\n",
              "      border-color: transparent;\n",
              "      border-right-color: var(--fill-color);\n",
              "      border-top-color: var(--fill-color);\n",
              "    }\n",
              "    60% {\n",
              "      border-color: transparent;\n",
              "      border-right-color: var(--fill-color);\n",
              "    }\n",
              "    80% {\n",
              "      border-color: transparent;\n",
              "      border-right-color: var(--fill-color);\n",
              "      border-bottom-color: var(--fill-color);\n",
              "    }\n",
              "    90% {\n",
              "      border-color: transparent;\n",
              "      border-bottom-color: var(--fill-color);\n",
              "    }\n",
              "  }\n",
              "</style>\n",
              "\n",
              "  <script>\n",
              "    async function quickchart(key) {\n",
              "      const quickchartButtonEl =\n",
              "        document.querySelector('#' + key + ' button');\n",
              "      quickchartButtonEl.disabled = true;  // To prevent multiple clicks.\n",
              "      quickchartButtonEl.classList.add('colab-df-spinner');\n",
              "      try {\n",
              "        const charts = await google.colab.kernel.invokeFunction(\n",
              "            'suggestCharts', [key], {});\n",
              "      } catch (error) {\n",
              "        console.error('Error during call to suggestCharts:', error);\n",
              "      }\n",
              "      quickchartButtonEl.classList.remove('colab-df-spinner');\n",
              "      quickchartButtonEl.classList.add('colab-df-quickchart-complete');\n",
              "    }\n",
              "    (() => {\n",
              "      let quickchartButtonEl =\n",
              "        document.querySelector('#df-7e259822-67e0-4e43-a075-52df3009ee47 button');\n",
              "      quickchartButtonEl.style.display =\n",
              "        google.colab.kernel.accessAllowed ? 'block' : 'none';\n",
              "    })();\n",
              "  </script>\n",
              "</div>\n",
              "    </div>\n",
              "  </div>\n"
            ]
          },
          "metadata": {},
          "execution_count": 106
        }
      ],
      "source": [
        "df = pd.read_csv('emotion_text.csv')\n",
        "df"
      ]
    },
    {
      "cell_type": "markdown",
      "metadata": {
        "id": "mQf2ki46wqg1"
      },
      "source": [
        "# cek null value"
      ]
    },
    {
      "cell_type": "code",
      "execution_count": 107,
      "metadata": {
        "colab": {
          "base_uri": "https://localhost:8080/"
        },
        "id": "wcR8nl2IwtTg",
        "outputId": "832d99ec-c55c-45b3-d91d-fa21c545d81a"
      },
      "outputs": [
        {
          "output_type": "execute_result",
          "data": {
            "text/plain": [
              "text     0\n",
              "label    0\n",
              "dtype: int64"
            ]
          },
          "metadata": {},
          "execution_count": 107
        }
      ],
      "source": [
        "df.isna().sum()"
      ]
    },
    {
      "cell_type": "markdown",
      "metadata": {
        "id": "KrZRh2KddRMo"
      },
      "source": [
        "# CEK DUPLIKAT PADA kolom, dan drop jika ada"
      ]
    },
    {
      "cell_type": "code",
      "execution_count": 108,
      "metadata": {
        "colab": {
          "base_uri": "https://localhost:8080/"
        },
        "id": "Yl_YraB3dQ13",
        "outputId": "40b427ce-6716-424a-f00c-b9b9d183b1da"
      },
      "outputs": [
        {
          "output_type": "stream",
          "name": "stdout",
          "text": [
            "                                                    text  label\n",
            "13846  i feel more adventurous willing to take risks ...      1\n"
          ]
        }
      ],
      "source": [
        "# Mengecek duplikat\n",
        "duplicate_rows = df[df.duplicated()]\n",
        "print(duplicate_rows)"
      ]
    },
    {
      "cell_type": "code",
      "execution_count": 109,
      "metadata": {
        "id": "AvY-S6ucdiz9"
      },
      "outputs": [],
      "source": [
        "# Jika Anda ingin menghapus duplikat dari DataFrame\n",
        "df = df.drop_duplicates()"
      ]
    },
    {
      "cell_type": "markdown",
      "metadata": {
        "id": "pNL64F2PxBkO"
      },
      "source": [
        "# One Hot Encoding dan mengganti nama kolom sesuai nama emosi"
      ]
    },
    {
      "cell_type": "code",
      "execution_count": 110,
      "metadata": {
        "colab": {
          "base_uri": "https://localhost:8080/",
          "height": 206
        },
        "id": "F4f7Hs1iw81s",
        "outputId": "333705d6-af2b-441e-e2ec-4b0840c37611"
      },
      "outputs": [
        {
          "output_type": "execute_result",
          "data": {
            "text/plain": [
              "                                                text  sadness  joy  love  \\\n",
              "0                            i didnt feel humiliated        1    0     0   \n",
              "1  i can go from feeling so hopeless to so damned...        1    0     0   \n",
              "2   im grabbing a minute to post i feel greedy wrong        0    0     0   \n",
              "3  i am ever feeling nostalgic about the fireplac...        0    0     1   \n",
              "4                               i am feeling grouchy        0    0     0   \n",
              "\n",
              "   anger  fear  netral  \n",
              "0      0     0       0  \n",
              "1      0     0       0  \n",
              "2      1     0       0  \n",
              "3      0     0       0  \n",
              "4      1     0       0  "
            ],
            "text/html": [
              "\n",
              "  <div id=\"df-7fa0e2f8-f7ad-44a5-ad53-bc61136edc09\" class=\"colab-df-container\">\n",
              "    <div>\n",
              "<style scoped>\n",
              "    .dataframe tbody tr th:only-of-type {\n",
              "        vertical-align: middle;\n",
              "    }\n",
              "\n",
              "    .dataframe tbody tr th {\n",
              "        vertical-align: top;\n",
              "    }\n",
              "\n",
              "    .dataframe thead th {\n",
              "        text-align: right;\n",
              "    }\n",
              "</style>\n",
              "<table border=\"1\" class=\"dataframe\">\n",
              "  <thead>\n",
              "    <tr style=\"text-align: right;\">\n",
              "      <th></th>\n",
              "      <th>text</th>\n",
              "      <th>sadness</th>\n",
              "      <th>joy</th>\n",
              "      <th>love</th>\n",
              "      <th>anger</th>\n",
              "      <th>fear</th>\n",
              "      <th>netral</th>\n",
              "    </tr>\n",
              "  </thead>\n",
              "  <tbody>\n",
              "    <tr>\n",
              "      <th>0</th>\n",
              "      <td>i didnt feel humiliated</td>\n",
              "      <td>1</td>\n",
              "      <td>0</td>\n",
              "      <td>0</td>\n",
              "      <td>0</td>\n",
              "      <td>0</td>\n",
              "      <td>0</td>\n",
              "    </tr>\n",
              "    <tr>\n",
              "      <th>1</th>\n",
              "      <td>i can go from feeling so hopeless to so damned...</td>\n",
              "      <td>1</td>\n",
              "      <td>0</td>\n",
              "      <td>0</td>\n",
              "      <td>0</td>\n",
              "      <td>0</td>\n",
              "      <td>0</td>\n",
              "    </tr>\n",
              "    <tr>\n",
              "      <th>2</th>\n",
              "      <td>im grabbing a minute to post i feel greedy wrong</td>\n",
              "      <td>0</td>\n",
              "      <td>0</td>\n",
              "      <td>0</td>\n",
              "      <td>1</td>\n",
              "      <td>0</td>\n",
              "      <td>0</td>\n",
              "    </tr>\n",
              "    <tr>\n",
              "      <th>3</th>\n",
              "      <td>i am ever feeling nostalgic about the fireplac...</td>\n",
              "      <td>0</td>\n",
              "      <td>0</td>\n",
              "      <td>1</td>\n",
              "      <td>0</td>\n",
              "      <td>0</td>\n",
              "      <td>0</td>\n",
              "    </tr>\n",
              "    <tr>\n",
              "      <th>4</th>\n",
              "      <td>i am feeling grouchy</td>\n",
              "      <td>0</td>\n",
              "      <td>0</td>\n",
              "      <td>0</td>\n",
              "      <td>1</td>\n",
              "      <td>0</td>\n",
              "      <td>0</td>\n",
              "    </tr>\n",
              "  </tbody>\n",
              "</table>\n",
              "</div>\n",
              "    <div class=\"colab-df-buttons\">\n",
              "\n",
              "  <div class=\"colab-df-container\">\n",
              "    <button class=\"colab-df-convert\" onclick=\"convertToInteractive('df-7fa0e2f8-f7ad-44a5-ad53-bc61136edc09')\"\n",
              "            title=\"Convert this dataframe to an interactive table.\"\n",
              "            style=\"display:none;\">\n",
              "\n",
              "  <svg xmlns=\"http://www.w3.org/2000/svg\" height=\"24px\" viewBox=\"0 -960 960 960\">\n",
              "    <path d=\"M120-120v-720h720v720H120Zm60-500h600v-160H180v160Zm220 220h160v-160H400v160Zm0 220h160v-160H400v160ZM180-400h160v-160H180v160Zm440 0h160v-160H620v160ZM180-180h160v-160H180v160Zm440 0h160v-160H620v160Z\"/>\n",
              "  </svg>\n",
              "    </button>\n",
              "\n",
              "  <style>\n",
              "    .colab-df-container {\n",
              "      display:flex;\n",
              "      gap: 12px;\n",
              "    }\n",
              "\n",
              "    .colab-df-convert {\n",
              "      background-color: #E8F0FE;\n",
              "      border: none;\n",
              "      border-radius: 50%;\n",
              "      cursor: pointer;\n",
              "      display: none;\n",
              "      fill: #1967D2;\n",
              "      height: 32px;\n",
              "      padding: 0 0 0 0;\n",
              "      width: 32px;\n",
              "    }\n",
              "\n",
              "    .colab-df-convert:hover {\n",
              "      background-color: #E2EBFA;\n",
              "      box-shadow: 0px 1px 2px rgba(60, 64, 67, 0.3), 0px 1px 3px 1px rgba(60, 64, 67, 0.15);\n",
              "      fill: #174EA6;\n",
              "    }\n",
              "\n",
              "    .colab-df-buttons div {\n",
              "      margin-bottom: 4px;\n",
              "    }\n",
              "\n",
              "    [theme=dark] .colab-df-convert {\n",
              "      background-color: #3B4455;\n",
              "      fill: #D2E3FC;\n",
              "    }\n",
              "\n",
              "    [theme=dark] .colab-df-convert:hover {\n",
              "      background-color: #434B5C;\n",
              "      box-shadow: 0px 1px 3px 1px rgba(0, 0, 0, 0.15);\n",
              "      filter: drop-shadow(0px 1px 2px rgba(0, 0, 0, 0.3));\n",
              "      fill: #FFFFFF;\n",
              "    }\n",
              "  </style>\n",
              "\n",
              "    <script>\n",
              "      const buttonEl =\n",
              "        document.querySelector('#df-7fa0e2f8-f7ad-44a5-ad53-bc61136edc09 button.colab-df-convert');\n",
              "      buttonEl.style.display =\n",
              "        google.colab.kernel.accessAllowed ? 'block' : 'none';\n",
              "\n",
              "      async function convertToInteractive(key) {\n",
              "        const element = document.querySelector('#df-7fa0e2f8-f7ad-44a5-ad53-bc61136edc09');\n",
              "        const dataTable =\n",
              "          await google.colab.kernel.invokeFunction('convertToInteractive',\n",
              "                                                    [key], {});\n",
              "        if (!dataTable) return;\n",
              "\n",
              "        const docLinkHtml = 'Like what you see? Visit the ' +\n",
              "          '<a target=\"_blank\" href=https://colab.research.google.com/notebooks/data_table.ipynb>data table notebook</a>'\n",
              "          + ' to learn more about interactive tables.';\n",
              "        element.innerHTML = '';\n",
              "        dataTable['output_type'] = 'display_data';\n",
              "        await google.colab.output.renderOutput(dataTable, element);\n",
              "        const docLink = document.createElement('div');\n",
              "        docLink.innerHTML = docLinkHtml;\n",
              "        element.appendChild(docLink);\n",
              "      }\n",
              "    </script>\n",
              "  </div>\n",
              "\n",
              "\n",
              "<div id=\"df-fb0137d7-b06b-4717-a6fa-4fe7b0228f64\">\n",
              "  <button class=\"colab-df-quickchart\" onclick=\"quickchart('df-fb0137d7-b06b-4717-a6fa-4fe7b0228f64')\"\n",
              "            title=\"Suggest charts\"\n",
              "            style=\"display:none;\">\n",
              "\n",
              "<svg xmlns=\"http://www.w3.org/2000/svg\" height=\"24px\"viewBox=\"0 0 24 24\"\n",
              "     width=\"24px\">\n",
              "    <g>\n",
              "        <path d=\"M19 3H5c-1.1 0-2 .9-2 2v14c0 1.1.9 2 2 2h14c1.1 0 2-.9 2-2V5c0-1.1-.9-2-2-2zM9 17H7v-7h2v7zm4 0h-2V7h2v10zm4 0h-2v-4h2v4z\"/>\n",
              "    </g>\n",
              "</svg>\n",
              "  </button>\n",
              "\n",
              "<style>\n",
              "  .colab-df-quickchart {\n",
              "      --bg-color: #E8F0FE;\n",
              "      --fill-color: #1967D2;\n",
              "      --hover-bg-color: #E2EBFA;\n",
              "      --hover-fill-color: #174EA6;\n",
              "      --disabled-fill-color: #AAA;\n",
              "      --disabled-bg-color: #DDD;\n",
              "  }\n",
              "\n",
              "  [theme=dark] .colab-df-quickchart {\n",
              "      --bg-color: #3B4455;\n",
              "      --fill-color: #D2E3FC;\n",
              "      --hover-bg-color: #434B5C;\n",
              "      --hover-fill-color: #FFFFFF;\n",
              "      --disabled-bg-color: #3B4455;\n",
              "      --disabled-fill-color: #666;\n",
              "  }\n",
              "\n",
              "  .colab-df-quickchart {\n",
              "    background-color: var(--bg-color);\n",
              "    border: none;\n",
              "    border-radius: 50%;\n",
              "    cursor: pointer;\n",
              "    display: none;\n",
              "    fill: var(--fill-color);\n",
              "    height: 32px;\n",
              "    padding: 0;\n",
              "    width: 32px;\n",
              "  }\n",
              "\n",
              "  .colab-df-quickchart:hover {\n",
              "    background-color: var(--hover-bg-color);\n",
              "    box-shadow: 0 1px 2px rgba(60, 64, 67, 0.3), 0 1px 3px 1px rgba(60, 64, 67, 0.15);\n",
              "    fill: var(--button-hover-fill-color);\n",
              "  }\n",
              "\n",
              "  .colab-df-quickchart-complete:disabled,\n",
              "  .colab-df-quickchart-complete:disabled:hover {\n",
              "    background-color: var(--disabled-bg-color);\n",
              "    fill: var(--disabled-fill-color);\n",
              "    box-shadow: none;\n",
              "  }\n",
              "\n",
              "  .colab-df-spinner {\n",
              "    border: 2px solid var(--fill-color);\n",
              "    border-color: transparent;\n",
              "    border-bottom-color: var(--fill-color);\n",
              "    animation:\n",
              "      spin 1s steps(1) infinite;\n",
              "  }\n",
              "\n",
              "  @keyframes spin {\n",
              "    0% {\n",
              "      border-color: transparent;\n",
              "      border-bottom-color: var(--fill-color);\n",
              "      border-left-color: var(--fill-color);\n",
              "    }\n",
              "    20% {\n",
              "      border-color: transparent;\n",
              "      border-left-color: var(--fill-color);\n",
              "      border-top-color: var(--fill-color);\n",
              "    }\n",
              "    30% {\n",
              "      border-color: transparent;\n",
              "      border-left-color: var(--fill-color);\n",
              "      border-top-color: var(--fill-color);\n",
              "      border-right-color: var(--fill-color);\n",
              "    }\n",
              "    40% {\n",
              "      border-color: transparent;\n",
              "      border-right-color: var(--fill-color);\n",
              "      border-top-color: var(--fill-color);\n",
              "    }\n",
              "    60% {\n",
              "      border-color: transparent;\n",
              "      border-right-color: var(--fill-color);\n",
              "    }\n",
              "    80% {\n",
              "      border-color: transparent;\n",
              "      border-right-color: var(--fill-color);\n",
              "      border-bottom-color: var(--fill-color);\n",
              "    }\n",
              "    90% {\n",
              "      border-color: transparent;\n",
              "      border-bottom-color: var(--fill-color);\n",
              "    }\n",
              "  }\n",
              "</style>\n",
              "\n",
              "  <script>\n",
              "    async function quickchart(key) {\n",
              "      const quickchartButtonEl =\n",
              "        document.querySelector('#' + key + ' button');\n",
              "      quickchartButtonEl.disabled = true;  // To prevent multiple clicks.\n",
              "      quickchartButtonEl.classList.add('colab-df-spinner');\n",
              "      try {\n",
              "        const charts = await google.colab.kernel.invokeFunction(\n",
              "            'suggestCharts', [key], {});\n",
              "      } catch (error) {\n",
              "        console.error('Error during call to suggestCharts:', error);\n",
              "      }\n",
              "      quickchartButtonEl.classList.remove('colab-df-spinner');\n",
              "      quickchartButtonEl.classList.add('colab-df-quickchart-complete');\n",
              "    }\n",
              "    (() => {\n",
              "      let quickchartButtonEl =\n",
              "        document.querySelector('#df-fb0137d7-b06b-4717-a6fa-4fe7b0228f64 button');\n",
              "      quickchartButtonEl.style.display =\n",
              "        google.colab.kernel.accessAllowed ? 'block' : 'none';\n",
              "    })();\n",
              "  </script>\n",
              "</div>\n",
              "    </div>\n",
              "  </div>\n"
            ]
          },
          "metadata": {},
          "execution_count": 110
        }
      ],
      "source": [
        "category = pd.get_dummies(df.label)\n",
        "df_baru = pd.concat([df, category], axis=1)\n",
        "df_baru = df_baru.drop(columns='label')\n",
        "\n",
        "kolom_mapping = {\n",
        "    0: 'sadness',\n",
        "    1: 'joy',\n",
        "    2: 'love',\n",
        "    3: 'anger',\n",
        "    4: 'fear',\n",
        "    5: 'netral'\n",
        "}\n",
        "df_baru = df_baru.rename(columns=kolom_mapping)\n",
        "df_baru.head()"
      ]
    },
    {
      "cell_type": "markdown",
      "metadata": {
        "id": "aTeckPZsxq4B"
      },
      "source": [
        "# mengubah kolom jadi array"
      ]
    },
    {
      "cell_type": "code",
      "execution_count": 111,
      "metadata": {
        "id": "ykW7o7OFxqaT"
      },
      "outputs": [],
      "source": [
        "text = df_baru['text'].values\n",
        "label_columns = ['sadness','joy','love','anger','fear','netral']\n",
        "label = df_baru[label_columns].values"
      ]
    },
    {
      "cell_type": "markdown",
      "metadata": {
        "id": "fpGmlprqe5bF"
      },
      "source": [
        "# Split Data"
      ]
    },
    {
      "cell_type": "code",
      "execution_count": 112,
      "metadata": {
        "id": "J5BKI_1Le5M_"
      },
      "outputs": [],
      "source": [
        "text_latih, text_test, label_latih, label_test = train_test_split(text, label, test_size=0.2)"
      ]
    },
    {
      "cell_type": "markdown",
      "metadata": {
        "id": "YaXH72uCiK0c"
      },
      "source": [
        "# TOKENIZATION, SEQUENCE, PADDING"
      ]
    },
    {
      "cell_type": "code",
      "execution_count": 113,
      "metadata": {
        "id": "OJsdX2wgU6y0"
      },
      "outputs": [],
      "source": [
        "def preprocess_text(text):\n",
        "    # Menghapus HTML tags\n",
        "    text = re.sub(r'<.*?>', '', text)\n",
        "\n",
        "    # Konversi ke huruf kecil\n",
        "    text = text.lower()\n",
        "\n",
        "    # Tokenisasi kata\n",
        "    tokens = word_tokenize(text)\n",
        "\n",
        "    # Menghapus tanda baca dan karakter khusus\n",
        "    tokens = [word for word in tokens if word.isalnum()]\n",
        "\n",
        "    # Menghilangkan stop words\n",
        "    stop_words = set(stopwords.words('english'))\n",
        "    tokens = [word for word in tokens if word not in stop_words]\n",
        "\n",
        "    # Lemmatisasi\n",
        "    lemmatizer = WordNetLemmatizer()\n",
        "    tokens = [lemmatizer.lemmatize(word) for word in tokens]\n",
        "\n",
        "    return tokens\n"
      ]
    },
    {
      "cell_type": "code",
      "execution_count": 114,
      "metadata": {
        "id": "C5ie7tQiiI9l"
      },
      "outputs": [],
      "source": [
        "# Membersihkan teks menggunakan fungsi preprocess_text\n",
        "cleaned_content_latih = [preprocess_text(sentence) for sentence in text_latih]\n",
        "cleaned_content_test = [preprocess_text(sentence) for sentence in text_test]\n",
        "\n",
        "# Tokenisasi menggunakan Tokenizer\n",
        "tokenizer = Tokenizer(num_words=10000, oov_token='-')\n",
        "tokenizer.fit_on_texts(cleaned_content_latih)\n",
        "\n",
        "# Konversi teks ke urutan angka menggunakan Tokenizer\n",
        "sequence_latih = tokenizer.texts_to_sequences(cleaned_content_latih)\n",
        "sequence_test = tokenizer.texts_to_sequences(cleaned_content_test)\n",
        "\n",
        "# Padding\n",
        "latih_padd = pad_sequences(sequence_latih, padding='post', maxlen=20, truncating='post')\n",
        "test_padd = pad_sequences(sequence_test, padding='post', maxlen=20, truncating='post')"
      ]
    },
    {
      "cell_type": "markdown",
      "source": [
        "# MEMBUAT MODEL LSTM + EMBEDDING"
      ],
      "metadata": {
        "id": "mqzfhimgnsV3"
      }
    },
    {
      "cell_type": "code",
      "execution_count": 121,
      "metadata": {
        "id": "aUr7sbutRh7f"
      },
      "outputs": [],
      "source": [
        "model = tf.keras.Sequential([\n",
        "    tf.keras.layers.Embedding(input_dim=20000, output_dim=128),\n",
        "    tf.keras.layers.LSTM(256),\n",
        "    tf.keras.layers.Dropout(0.5),\n",
        "    tf.keras.layers.Dropout(0.5),\n",
        "    tf.keras.layers.Dense(6, activation='softmax')\n",
        "])\n"
      ]
    },
    {
      "cell_type": "code",
      "source": [
        "model.summary()"
      ],
      "metadata": {
        "colab": {
          "base_uri": "https://localhost:8080/"
        },
        "id": "UxZcpQ5KVaGt",
        "outputId": "ae70ac3c-0932-46a1-92c2-3875f2ad3731"
      },
      "execution_count": 122,
      "outputs": [
        {
          "output_type": "stream",
          "name": "stdout",
          "text": [
            "Model: \"sequential_12\"\n",
            "_________________________________________________________________\n",
            " Layer (type)                Output Shape              Param #   \n",
            "=================================================================\n",
            " embedding_12 (Embedding)    (None, None, 128)         2560000   \n",
            "                                                                 \n",
            " lstm_12 (LSTM)              (None, 256)               394240    \n",
            "                                                                 \n",
            " dropout_18 (Dropout)        (None, 256)               0         \n",
            "                                                                 \n",
            " dropout_19 (Dropout)        (None, 256)               0         \n",
            "                                                                 \n",
            " dense_15 (Dense)            (None, 6)                 1542      \n",
            "                                                                 \n",
            "=================================================================\n",
            "Total params: 2955782 (11.28 MB)\n",
            "Trainable params: 2955782 (11.28 MB)\n",
            "Non-trainable params: 0 (0.00 Byte)\n",
            "_________________________________________________________________\n"
          ]
        }
      ]
    },
    {
      "cell_type": "code",
      "execution_count": 123,
      "metadata": {
        "id": "CdSM27aokgg3"
      },
      "outputs": [],
      "source": [
        "# Optimizer\n",
        "optimizer = tf.keras.optimizers.Adam(learning_rate=0.0001)\n",
        "\n",
        "model.compile(loss='categorical_crossentropy', optimizer=optimizer, metrics=['accuracy'])\n"
      ]
    },
    {
      "cell_type": "markdown",
      "source": [
        "# TRAIN MODEL"
      ],
      "metadata": {
        "id": "MwShyOBSnym9"
      }
    },
    {
      "cell_type": "code",
      "execution_count": 124,
      "metadata": {
        "colab": {
          "base_uri": "https://localhost:8080/"
        },
        "id": "X-1ZpZ4kSBZE",
        "outputId": "61784bce-73af-4bb7-edb6-1854fbfb5ea4"
      },
      "outputs": [
        {
          "output_type": "stream",
          "name": "stdout",
          "text": [
            "Epoch 1/50\n",
            "250/250 - 47s - loss: 1.6214 - accuracy: 0.3180 - val_loss: 1.5753 - val_accuracy: 0.3290 - 47s/epoch - 189ms/step\n",
            "Epoch 2/50\n",
            "250/250 - 44s - loss: 1.3930 - accuracy: 0.3598 - val_loss: 1.1979 - val_accuracy: 0.4105 - 44s/epoch - 176ms/step\n",
            "Epoch 3/50\n",
            "250/250 - 43s - loss: 1.0908 - accuracy: 0.4829 - val_loss: 1.0446 - val_accuracy: 0.5853 - 43s/epoch - 172ms/step\n",
            "Epoch 4/50\n",
            "250/250 - 43s - loss: 0.8918 - accuracy: 0.6402 - val_loss: 0.9488 - val_accuracy: 0.6603 - 43s/epoch - 174ms/step\n",
            "Epoch 5/50\n",
            "250/250 - 45s - loss: 0.7680 - accuracy: 0.7222 - val_loss: 0.9158 - val_accuracy: 0.6752 - 45s/epoch - 181ms/step\n",
            "Epoch 6/50\n",
            "250/250 - 44s - loss: 0.7000 - accuracy: 0.7551 - val_loss: 0.9086 - val_accuracy: 0.6793 - 44s/epoch - 174ms/step\n",
            "Epoch 7/50\n",
            "250/250 - 43s - loss: 0.6286 - accuracy: 0.7845 - val_loss: 0.9184 - val_accuracy: 0.6860 - 43s/epoch - 170ms/step\n",
            "Epoch 8/50\n",
            "250/250 - 43s - loss: 0.5754 - accuracy: 0.8092 - val_loss: 0.9262 - val_accuracy: 0.7020 - 43s/epoch - 173ms/step\n",
            "Epoch 9/50\n",
            "250/250 - 43s - loss: 0.5061 - accuracy: 0.8285 - val_loss: 0.8574 - val_accuracy: 0.7195 - 43s/epoch - 174ms/step\n",
            "Epoch 10/50\n",
            "250/250 - 45s - loss: 0.4369 - accuracy: 0.8589 - val_loss: 0.8620 - val_accuracy: 0.7368 - 45s/epoch - 182ms/step\n",
            "Epoch 11/50\n",
            "250/250 - 44s - loss: 0.3950 - accuracy: 0.8748 - val_loss: 0.8980 - val_accuracy: 0.7402 - 44s/epoch - 178ms/step\n",
            "Epoch 12/50\n",
            "250/250 - 44s - loss: 0.3537 - accuracy: 0.8915 - val_loss: 0.8540 - val_accuracy: 0.7395 - 44s/epoch - 175ms/step\n",
            "Epoch 13/50\n",
            "250/250 - 44s - loss: 0.3081 - accuracy: 0.9066 - val_loss: 0.8658 - val_accuracy: 0.7545 - 44s/epoch - 176ms/step\n",
            "Epoch 14/50\n",
            "250/250 - 43s - loss: 0.2810 - accuracy: 0.9147 - val_loss: 0.8576 - val_accuracy: 0.7700 - 43s/epoch - 174ms/step\n",
            "Epoch 15/50\n",
            "250/250 - 43s - loss: 0.2428 - accuracy: 0.9310 - val_loss: 0.9010 - val_accuracy: 0.7735 - 43s/epoch - 173ms/step\n",
            "Epoch 16/50\n",
            "250/250 - 43s - loss: 0.2108 - accuracy: 0.9403 - val_loss: 0.8970 - val_accuracy: 0.7710 - 43s/epoch - 170ms/step\n",
            "Epoch 17/50\n",
            "250/250 - 42s - loss: 0.1942 - accuracy: 0.9441 - val_loss: 0.9169 - val_accuracy: 0.7653 - 42s/epoch - 169ms/step\n",
            "Epoch 18/50\n",
            "250/250 - 42s - loss: 0.1749 - accuracy: 0.9517 - val_loss: 0.9267 - val_accuracy: 0.7750 - 42s/epoch - 167ms/step\n",
            "Epoch 19/50\n",
            "250/250 - 43s - loss: 0.1585 - accuracy: 0.9535 - val_loss: 0.9496 - val_accuracy: 0.7782 - 43s/epoch - 174ms/step\n",
            "Epoch 20/50\n",
            "250/250 - 48s - loss: 0.1472 - accuracy: 0.9563 - val_loss: 0.9819 - val_accuracy: 0.7788 - 48s/epoch - 193ms/step\n",
            "Epoch 21/50\n",
            "250/250 - 43s - loss: 0.1379 - accuracy: 0.9601 - val_loss: 0.9696 - val_accuracy: 0.7810 - 43s/epoch - 170ms/step\n",
            "Epoch 22/50\n",
            "250/250 - 43s - loss: 0.1246 - accuracy: 0.9634 - val_loss: 0.9827 - val_accuracy: 0.7772 - 43s/epoch - 171ms/step\n",
            "Epoch 23/50\n",
            "250/250 - 43s - loss: 0.1189 - accuracy: 0.9661 - val_loss: 1.1713 - val_accuracy: 0.7713 - 43s/epoch - 171ms/step\n",
            "Epoch 24/50\n",
            "250/250 - 43s - loss: 0.1201 - accuracy: 0.9649 - val_loss: 0.9457 - val_accuracy: 0.7853 - 43s/epoch - 170ms/step\n",
            "Epoch 25/50\n",
            "250/250 - 43s - loss: 0.1087 - accuracy: 0.9686 - val_loss: 1.0498 - val_accuracy: 0.7780 - 43s/epoch - 172ms/step\n",
            "Epoch 26/50\n",
            "250/250 - 42s - loss: 0.0963 - accuracy: 0.9722 - val_loss: 1.0227 - val_accuracy: 0.7837 - 42s/epoch - 169ms/step\n",
            "Epoch 27/50\n",
            "250/250 - 44s - loss: 0.0930 - accuracy: 0.9741 - val_loss: 1.1767 - val_accuracy: 0.7740 - 44s/epoch - 175ms/step\n",
            "Epoch 28/50\n",
            "250/250 - 43s - loss: 0.0873 - accuracy: 0.9749 - val_loss: 1.0831 - val_accuracy: 0.7855 - 43s/epoch - 173ms/step\n",
            "Epoch 29/50\n",
            "250/250 - 44s - loss: 0.0797 - accuracy: 0.9772 - val_loss: 1.0925 - val_accuracy: 0.7780 - 44s/epoch - 175ms/step\n",
            "Epoch 30/50\n",
            "250/250 - 43s - loss: 0.0775 - accuracy: 0.9779 - val_loss: 1.1714 - val_accuracy: 0.7793 - 43s/epoch - 171ms/step\n",
            "Epoch 31/50\n",
            "250/250 - 46s - loss: 0.0732 - accuracy: 0.9804 - val_loss: 1.2042 - val_accuracy: 0.7750 - 46s/epoch - 184ms/step\n",
            "Epoch 32/50\n",
            "250/250 - 43s - loss: 0.0784 - accuracy: 0.9773 - val_loss: 1.0770 - val_accuracy: 0.7780 - 43s/epoch - 174ms/step\n"
          ]
        }
      ],
      "source": [
        "# Callback\n",
        "early_stopping = EarlyStopping(monitor='val_loss', patience=20, restore_best_weights=True)\n",
        "# batch size\n",
        "batch_size = 64\n",
        "\n",
        "# Train\n",
        "epochs = 50\n",
        "history = model.fit(latih_padd, label_latih, epochs=epochs, batch_size=batch_size,\n",
        "          validation_data=(test_padd, label_test), verbose=2,\n",
        "          callbacks=[early_stopping])\n"
      ]
    },
    {
      "cell_type": "code",
      "execution_count": 125,
      "metadata": {
        "id": "6psovurn5g7p",
        "colab": {
          "base_uri": "https://localhost:8080/",
          "height": 472
        },
        "outputId": "ff305427-3664-4f4c-96ef-75417b4a60fa"
      },
      "outputs": [
        {
          "output_type": "display_data",
          "data": {
            "text/plain": [
              "<Figure size 640x480 with 1 Axes>"
            ],
            "image/png": "[encoded data removed]"
          },
          "metadata": {}
        }
      ],
      "source": [
        "# Dapatkan nilai akurasi dari histori pelatihan\n",
        "train_accuracy = history.history['accuracy']\n",
        "val_accuracy = history.history['val_accuracy']\n",
        "\n",
        "# Dapatkan nilai epochs yang sebenarnya (mungkin lebih kecil jika menggunakan EarlyStopping)\n",
        "actual_epochs = len(train_accuracy)\n",
        "\n",
        "# Plot akurasi pelatihan dan validasi\n",
        "epochs_range = range(1, actual_epochs + 1)\n",
        "plt.plot(epochs_range, train_accuracy, label='Accuracy')\n",
        "plt.plot(epochs_range, val_accuracy, label='Validation Accuracy')\n",
        "plt.title('Train and Validation Accuracy Over Epochs')\n",
        "plt.xlabel('Epochs')\n",
        "plt.ylabel('Accuracy')\n",
        "plt.legend()\n",
        "plt.show()"
      ]
    },
    {
      "cell_type": "code",
      "source": [
        "# Dapatkan nilai akurasi dari histori pelatihan\n",
        "train_accuracy = history.history['loss']\n",
        "val_accuracy = history.history['val_loss']\n",
        "\n",
        "# Dapatkan nilai epochs yang sebenarnya (mungkin lebih kecil jika menggunakan EarlyStopping)\n",
        "actual_epochs = len(train_accuracy)\n",
        "\n",
        "# Plot akurasi pelatihan dan validasi\n",
        "epochs_range = range(1, actual_epochs + 1)\n",
        "plt.plot(epochs_range, train_accuracy, label='loss')\n",
        "plt.plot(epochs_range, val_accuracy, label='Validation loss')\n",
        "plt.title('Train and Validation loss Over Epochs')\n",
        "plt.xlabel('Epochs')\n",
        "plt.ylabel('loss')\n",
        "plt.legend()\n",
        "plt.show()"
      ],
      "metadata": {
        "colab": {
          "base_uri": "https://localhost:8080/",
          "height": 472
        },
        "id": "HTsgHopYnZby",
        "outputId": "529952b5-f1a0-4702-fb4f-e4a2f6ec2512"
      },
      "execution_count": 126,
      "outputs": [
        {
          "output_type": "display_data",
          "data": {
            "text/plain": [
              "<Figure size 640x480 with 1 Axes>"
            ],
            "image/png": "[encoded data removed]"
          },
          "metadata": {}
        }
      ]
    }
  ],
  "metadata": {
    "colab": {
      "provenance": []
    },
    "kernelspec": {
      "display_name": "Python 3",
      "name": "python3"
    },
    "language_info": {
      "name": "python"
    }
  },
  "nbformat": 4,
  "nbformat_minor": 0
}